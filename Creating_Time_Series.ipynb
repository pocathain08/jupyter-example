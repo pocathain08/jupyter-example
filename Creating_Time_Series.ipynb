{
 "cells": [
  {
   "cell_type": "markdown",
   "metadata": {},
   "source": [
    " # Creating a time series  "
   ]
  },
  {
   "cell_type": "code",
   "execution_count": 1,
   "metadata": {},
   "outputs": [],
   "source": [
    "import pandas as pd"
   ]
  },
  {
   "cell_type": "code",
   "execution_count": 2,
   "metadata": {},
   "outputs": [],
   "source": [
    "# Adapted from https://pandas.pydata.org/pandas-docs/version/0.12/timeseries.html\n",
    "#72 hours starting with midnight Jan 1st, 2011\n",
    "\n",
    "rng = pd.date_range('1/1/2011', periods=72, freq='H')"
   ]
  },
  {
   "cell_type": "code",
   "execution_count": 3,
   "metadata": {},
   "outputs": [
    {
     "data": {
      "text/plain": [
       "DatetimeIndex(['2011-01-01 00:00:00', '2011-01-01 01:00:00',\n",
       "               '2011-01-01 02:00:00', '2011-01-01 03:00:00',\n",
       "               '2011-01-01 04:00:00', '2011-01-01 05:00:00',\n",
       "               '2011-01-01 06:00:00', '2011-01-01 07:00:00',\n",
       "               '2011-01-01 08:00:00', '2011-01-01 09:00:00',\n",
       "               '2011-01-01 10:00:00', '2011-01-01 11:00:00',\n",
       "               '2011-01-01 12:00:00', '2011-01-01 13:00:00',\n",
       "               '2011-01-01 14:00:00', '2011-01-01 15:00:00',\n",
       "               '2011-01-01 16:00:00', '2011-01-01 17:00:00',\n",
       "               '2011-01-01 18:00:00', '2011-01-01 19:00:00',\n",
       "               '2011-01-01 20:00:00', '2011-01-01 21:00:00',\n",
       "               '2011-01-01 22:00:00', '2011-01-01 23:00:00',\n",
       "               '2011-01-02 00:00:00', '2011-01-02 01:00:00',\n",
       "               '2011-01-02 02:00:00', '2011-01-02 03:00:00',\n",
       "               '2011-01-02 04:00:00', '2011-01-02 05:00:00',\n",
       "               '2011-01-02 06:00:00', '2011-01-02 07:00:00',\n",
       "               '2011-01-02 08:00:00', '2011-01-02 09:00:00',\n",
       "               '2011-01-02 10:00:00', '2011-01-02 11:00:00',\n",
       "               '2011-01-02 12:00:00', '2011-01-02 13:00:00',\n",
       "               '2011-01-02 14:00:00', '2011-01-02 15:00:00',\n",
       "               '2011-01-02 16:00:00', '2011-01-02 17:00:00',\n",
       "               '2011-01-02 18:00:00', '2011-01-02 19:00:00',\n",
       "               '2011-01-02 20:00:00', '2011-01-02 21:00:00',\n",
       "               '2011-01-02 22:00:00', '2011-01-02 23:00:00',\n",
       "               '2011-01-03 00:00:00', '2011-01-03 01:00:00',\n",
       "               '2011-01-03 02:00:00', '2011-01-03 03:00:00',\n",
       "               '2011-01-03 04:00:00', '2011-01-03 05:00:00',\n",
       "               '2011-01-03 06:00:00', '2011-01-03 07:00:00',\n",
       "               '2011-01-03 08:00:00', '2011-01-03 09:00:00',\n",
       "               '2011-01-03 10:00:00', '2011-01-03 11:00:00',\n",
       "               '2011-01-03 12:00:00', '2011-01-03 13:00:00',\n",
       "               '2011-01-03 14:00:00', '2011-01-03 15:00:00',\n",
       "               '2011-01-03 16:00:00', '2011-01-03 17:00:00',\n",
       "               '2011-01-03 18:00:00', '2011-01-03 19:00:00',\n",
       "               '2011-01-03 20:00:00', '2011-01-03 21:00:00',\n",
       "               '2011-01-03 22:00:00', '2011-01-03 23:00:00'],\n",
       "              dtype='datetime64[ns]', freq='H')"
      ]
     },
     "execution_count": 3,
     "metadata": {},
     "output_type": "execute_result"
    }
   ],
   "source": [
    "rng\n",
    "#gives an ordered list of DatetimeIndexes. Its a date range with 72 periods, with an hourly frequency.\n",
    "#This can be used as an indes for another data set."
   ]
  },
  {
   "cell_type": "code",
   "execution_count": 4,
   "metadata": {},
   "outputs": [],
   "source": [
    "import numpy as np"
   ]
  },
  {
   "cell_type": "code",
   "execution_count": 5,
   "metadata": {},
   "outputs": [],
   "source": [
    "ts = pd.DataFrame(np.random.poisson(10, len(rng)), index =rng, columns=['admissions'])\n",
    "#10 average number of hourly addmissions"
   ]
  },
  {
   "cell_type": "code",
   "execution_count": 6,
   "metadata": {},
   "outputs": [
    {
     "data": {
      "text/html": [
       "<div>\n",
       "<style scoped>\n",
       "    .dataframe tbody tr th:only-of-type {\n",
       "        vertical-align: middle;\n",
       "    }\n",
       "\n",
       "    .dataframe tbody tr th {\n",
       "        vertical-align: top;\n",
       "    }\n",
       "\n",
       "    .dataframe thead th {\n",
       "        text-align: right;\n",
       "    }\n",
       "</style>\n",
       "<table border=\"1\" class=\"dataframe\">\n",
       "  <thead>\n",
       "    <tr style=\"text-align: right;\">\n",
       "      <th></th>\n",
       "      <th>admissions</th>\n",
       "    </tr>\n",
       "  </thead>\n",
       "  <tbody>\n",
       "    <tr>\n",
       "      <td>2011-01-01 00:00:00</td>\n",
       "      <td>11</td>\n",
       "    </tr>\n",
       "    <tr>\n",
       "      <td>2011-01-01 01:00:00</td>\n",
       "      <td>7</td>\n",
       "    </tr>\n",
       "    <tr>\n",
       "      <td>2011-01-01 02:00:00</td>\n",
       "      <td>13</td>\n",
       "    </tr>\n",
       "    <tr>\n",
       "      <td>2011-01-01 03:00:00</td>\n",
       "      <td>6</td>\n",
       "    </tr>\n",
       "    <tr>\n",
       "      <td>2011-01-01 04:00:00</td>\n",
       "      <td>11</td>\n",
       "    </tr>\n",
       "    <tr>\n",
       "      <td>...</td>\n",
       "      <td>...</td>\n",
       "    </tr>\n",
       "    <tr>\n",
       "      <td>2011-01-03 19:00:00</td>\n",
       "      <td>13</td>\n",
       "    </tr>\n",
       "    <tr>\n",
       "      <td>2011-01-03 20:00:00</td>\n",
       "      <td>10</td>\n",
       "    </tr>\n",
       "    <tr>\n",
       "      <td>2011-01-03 21:00:00</td>\n",
       "      <td>6</td>\n",
       "    </tr>\n",
       "    <tr>\n",
       "      <td>2011-01-03 22:00:00</td>\n",
       "      <td>5</td>\n",
       "    </tr>\n",
       "    <tr>\n",
       "      <td>2011-01-03 23:00:00</td>\n",
       "      <td>12</td>\n",
       "    </tr>\n",
       "  </tbody>\n",
       "</table>\n",
       "<p>72 rows × 1 columns</p>\n",
       "</div>"
      ],
      "text/plain": [
       "                     admissions\n",
       "2011-01-01 00:00:00          11\n",
       "2011-01-01 01:00:00           7\n",
       "2011-01-01 02:00:00          13\n",
       "2011-01-01 03:00:00           6\n",
       "2011-01-01 04:00:00          11\n",
       "...                         ...\n",
       "2011-01-03 19:00:00          13\n",
       "2011-01-03 20:00:00          10\n",
       "2011-01-03 21:00:00           6\n",
       "2011-01-03 22:00:00           5\n",
       "2011-01-03 23:00:00          12\n",
       "\n",
       "[72 rows x 1 columns]"
      ]
     },
     "execution_count": 6,
     "metadata": {},
     "output_type": "execute_result"
    }
   ],
   "source": [
    "ts"
   ]
  },
  {
   "cell_type": "code",
   "execution_count": 7,
   "metadata": {},
   "outputs": [],
   "source": [
    "#Now we have a time-series. Index not considered a col\n",
    "#pandas using rng as the row label/Index for the dataframe.\n",
    "#But, values must be unique. Recall iloc-position, loc -label\n",
    "# The above is a time stamp, giving time points, e.g. some confusion around what is included.\n",
    "# Therefore must spell it out. Important to consider interval, perhaps, use a date range??\n"
   ]
  },
  {
   "cell_type": "code",
   "execution_count": 8,
   "metadata": {},
   "outputs": [
    {
     "data": {
      "text/plain": [
       "admissions    7\n",
       "Name: 2011-01-01 01:00:00, dtype: int32"
      ]
     },
     "execution_count": 8,
     "metadata": {},
     "output_type": "execute_result"
    }
   ],
   "source": [
    "ts.iloc[1]"
   ]
  },
  {
   "cell_type": "code",
   "execution_count": 9,
   "metadata": {},
   "outputs": [
    {
     "data": {
      "text/plain": [
       "admissions    11\n",
       "Name: 2011-01-01 04:00:00, dtype: int32"
      ]
     },
     "execution_count": 9,
     "metadata": {},
     "output_type": "execute_result"
    }
   ],
   "source": [
    "ts.loc['2011-01-01 04:00:00']"
   ]
  },
  {
   "cell_type": "code",
   "execution_count": 10,
   "metadata": {},
   "outputs": [],
   "source": [
    "#np.random.poisson(5, 10)\n",
    "# 5 = average number of events occuring\n",
    "# 10 = the number of event"
   ]
  },
  {
   "cell_type": "markdown",
   "metadata": {},
   "source": [
    "# Accesing and grouping"
   ]
  },
  {
   "cell_type": "code",
   "execution_count": 11,
   "metadata": {},
   "outputs": [
    {
     "data": {
      "text/plain": [
       "admissions    9.777778\n",
       "dtype: float64"
      ]
     },
     "execution_count": 11,
     "metadata": {},
     "output_type": "execute_result"
    }
   ],
   "source": [
    "ts.mean()\n",
    "#pandas"
   ]
  },
  {
   "cell_type": "code",
   "execution_count": 12,
   "metadata": {},
   "outputs": [
    {
     "data": {
      "text/plain": [
       "admissions    9.85\n",
       "dtype: float64"
      ]
     },
     "execution_count": 12,
     "metadata": {},
     "output_type": "execute_result"
    }
   ],
   "source": [
    "ts.loc['2011-01-02 04:00:00': '2011-01-02 23:00:00'].mean()\n",
    "#Values and index must be sorted. .loc gives endpoints. iloc does'nt."
   ]
  },
  {
   "cell_type": "code",
   "execution_count": 13,
   "metadata": {},
   "outputs": [
    {
     "data": {
      "text/html": [
       "<div>\n",
       "<style scoped>\n",
       "    .dataframe tbody tr th:only-of-type {\n",
       "        vertical-align: middle;\n",
       "    }\n",
       "\n",
       "    .dataframe tbody tr th {\n",
       "        vertical-align: top;\n",
       "    }\n",
       "\n",
       "    .dataframe thead th {\n",
       "        text-align: right;\n",
       "    }\n",
       "</style>\n",
       "<table border=\"1\" class=\"dataframe\">\n",
       "  <thead>\n",
       "    <tr style=\"text-align: right;\">\n",
       "      <th></th>\n",
       "      <th>admissions</th>\n",
       "    </tr>\n",
       "  </thead>\n",
       "  <tbody>\n",
       "    <tr>\n",
       "      <td>2011-01-01</td>\n",
       "      <td>9.625000</td>\n",
       "    </tr>\n",
       "    <tr>\n",
       "      <td>2011-01-02</td>\n",
       "      <td>9.666667</td>\n",
       "    </tr>\n",
       "    <tr>\n",
       "      <td>2011-01-03</td>\n",
       "      <td>10.041667</td>\n",
       "    </tr>\n",
       "  </tbody>\n",
       "</table>\n",
       "</div>"
      ],
      "text/plain": [
       "            admissions\n",
       "2011-01-01    9.625000\n",
       "2011-01-02    9.666667\n",
       "2011-01-03   10.041667"
      ]
     },
     "execution_count": 13,
     "metadata": {},
     "output_type": "execute_result"
    }
   ],
   "source": [
    "# Notion of aggrigation. See ref ? https://pandas.pydata.org/pandas-docs/stable/user_guide/timeseries.html. \n",
    "#EG below aggrediated the values into days and gets the mean of each day\n",
    "ts.resample('D').mean()"
   ]
  },
  {
   "cell_type": "code",
   "execution_count": 14,
   "metadata": {},
   "outputs": [],
   "source": [
    "#Time stamp is a point in time, time spans covers a period"
   ]
  }
 ],
 "metadata": {
  "kernelspec": {
   "display_name": "Python 3",
   "language": "python",
   "name": "python3"
  },
  "language_info": {
   "codemirror_mode": {
    "name": "ipython",
    "version": 3
   },
   "file_extension": ".py",
   "mimetype": "text/x-python",
   "name": "python",
   "nbconvert_exporter": "python",
   "pygments_lexer": "ipython3",
   "version": "3.7.4"
  }
 },
 "nbformat": 4,
 "nbformat_minor": 2
}
